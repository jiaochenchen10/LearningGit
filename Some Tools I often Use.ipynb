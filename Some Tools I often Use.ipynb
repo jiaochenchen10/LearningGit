{
 "cells": [
  {
   "cell_type": "markdown",
   "metadata": {
    "toc": true
   },
   "source": [
    "<h1>Table of Contents<span class=\"tocSkip\"></span></h1>\n",
    "<div class=\"toc\"><ul class=\"toc-item\"><li><span><a href=\"#sklearn\" data-toc-modified-id=\"sklearn-1\"><span class=\"toc-item-num\">1&nbsp;&nbsp;</span>sklearn</a></span><ul class=\"toc-item\"><li><span><a href=\"#sklearn.feature_extraction.image.extract_patches_2d\" data-toc-modified-id=\"sklearn.feature_extraction.image.extract_patches_2d-1.1\"><span class=\"toc-item-num\">1.1&nbsp;&nbsp;</span>sklearn.feature_extraction.image.extract_patches_2d</a></span></li><li><span><a href=\"#sklearn.preprocessing.LabelBinarizer\" data-toc-modified-id=\"sklearn.preprocessing.LabelBinarizer-1.2\"><span class=\"toc-item-num\">1.2&nbsp;&nbsp;</span>sklearn.preprocessing.LabelBinarizer</a></span></li></ul></li><li><span><a href=\"#文件读取&amp;字符串匹配\" data-toc-modified-id=\"文件读取&amp;字符串匹配-2\"><span class=\"toc-item-num\">2&nbsp;&nbsp;</span>文件读取&amp;字符串匹配</a></span><ul class=\"toc-item\"><li><span><a href=\"#imutils.paths.list_images()\" data-toc-modified-id=\"imutils.paths.list_images()-2.1\"><span class=\"toc-item-num\">2.1&nbsp;&nbsp;</span>imutils.paths.list_images()</a></span></li></ul></li><li><span><a href=\"#os\" data-toc-modified-id=\"os-3\"><span class=\"toc-item-num\">3&nbsp;&nbsp;</span>os</a></span><ul class=\"toc-item\"><li><span><a href=\"#os.walk()\" data-toc-modified-id=\"os.walk()-3.1\"><span class=\"toc-item-num\">3.1&nbsp;&nbsp;</span>os.walk()</a></span></li><li><span><a href=\"#os.path.join()\" data-toc-modified-id=\"os.path.join()-3.2\"><span class=\"toc-item-num\">3.2&nbsp;&nbsp;</span>os.path.join()</a></span></li><li><span><a href=\"#os.path.sep\" data-toc-modified-id=\"os.path.sep-3.3\"><span class=\"toc-item-num\">3.3&nbsp;&nbsp;</span>os.path.sep</a></span></li><li><span><a href=\"#os.path.exists\" data-toc-modified-id=\"os.path.exists-3.4\"><span class=\"toc-item-num\">3.4&nbsp;&nbsp;</span>os.path.exists</a></span></li></ul></li><li><span><a href=\"#string\" data-toc-modified-id=\"string-4\"><span class=\"toc-item-num\">4&nbsp;&nbsp;</span>string</a></span><ul class=\"toc-item\"><li><span><a href=\"#str.split()\" data-toc-modified-id=\"str.split()-4.1\"><span class=\"toc-item-num\">4.1&nbsp;&nbsp;</span>str.split()</a></span></li><li><span><a href=\"#str.find()\" data-toc-modified-id=\"str.find()-4.2\"><span class=\"toc-item-num\">4.2&nbsp;&nbsp;</span>str.find()</a></span></li><li><span><a href=\"#str.rfind()\" data-toc-modified-id=\"str.rfind()-4.3\"><span class=\"toc-item-num\">4.3&nbsp;&nbsp;</span>str.rfind()</a></span></li><li><span><a href=\"#str.endswith()\" data-toc-modified-id=\"str.endswith()-4.4\"><span class=\"toc-item-num\">4.4&nbsp;&nbsp;</span>str.endswith()</a></span></li><li><span><a href=\"#str.strip()\" data-toc-modified-id=\"str.strip()-4.5\"><span class=\"toc-item-num\">4.5&nbsp;&nbsp;</span>str.strip()</a></span></li></ul></li><li><span><a href=\"#字典\" data-toc-modified-id=\"字典-5\"><span class=\"toc-item-num\">5&nbsp;&nbsp;</span>字典</a></span><ul class=\"toc-item\"><li><span><a href=\"#dict.get(key[,-value]-)\" data-toc-modified-id=\"dict.get(key[,-value]-)-5.1\"><span class=\"toc-item-num\">5.1&nbsp;&nbsp;</span>dict.get(key[, value] )</a></span></li></ul></li></ul></div>"
   ]
  },
  {
   "cell_type": "markdown",
   "metadata": {},
   "source": [
    "# sklearn "
   ]
  },
  {
   "cell_type": "markdown",
   "metadata": {},
   "source": [
    " ## sklearn.feature_extraction.image.extract_patches_2d "
   ]
  },
  {
   "cell_type": "code",
   "execution_count": 12,
   "metadata": {},
   "outputs": [
    {
     "data": {
      "text/plain": [
       "'\\nfrom sklearn.feature_extraction import image\\none_image = np.arange(16).reshape((4, 4))\\none_image\\narray([[ 0,  1,  2,  3],\\n       [ 4,  5,  6,  7],\\n       [ 8,  9, 10, 11],\\n       [12, 13, 14, 15]])\\npatches = image.extract_patches_2d(one_image, (2, 2))\\nprint(patches.shape)\\n(9, 2, 2)\\npatches[0]\\narray([[0, 1],\\n       [4, 5]])\\npatches[1]\\narray([[1, 2],\\n       [5, 6]])\\npatches[8]\\narray([[10, 11],\\n       [14, 15]])\\n'"
      ]
     },
     "execution_count": 12,
     "metadata": {},
     "output_type": "execute_result"
    }
   ],
   "source": [
    "\"\"\"\n",
    "对图像进行块截取，类比在一张大图像上截图。\n",
    ">>> from sklearn.feature_extraction import image\n",
    ">>> one_image = np.arange(16).reshape((4, 4))\n",
    ">>> one_image\n",
    "array([[ 0,  1,  2,  3],\n",
    "       [ 4,  5,  6,  7],\n",
    "       [ 8,  9, 10, 11],\n",
    "       [12, 13, 14, 15]])\n",
    ">>> patches = image.extract_patches_2d(one_image, (2, 2))\n",
    ">>> print(patches.shape)\n",
    "(9, 2, 2)\n",
    ">>> patches[0]\n",
    "array([[0, 1],\n",
    "       [4, 5]])\n",
    ">>> patches[1]\n",
    "array([[1, 2],\n",
    "       [5, 6]])\n",
    ">>> patches[8]\n",
    "array([[10, 11],\n",
    "       [14, 15]])\n",
    "\"\"\""
   ]
  },
  {
   "cell_type": "markdown",
   "metadata": {},
   "source": [
    "## sklearn.preprocessing.LabelBinarizer"
   ]
  },
  {
   "cell_type": "code",
   "execution_count": 2,
   "metadata": {},
   "outputs": [],
   "source": [
    "from sklearn.preprocessing import LabelBinarizer"
   ]
  },
  {
   "cell_type": "code",
   "execution_count": 4,
   "metadata": {},
   "outputs": [
    {
     "data": {
      "text/plain": [
       "LabelBinarizer(neg_label=0, pos_label=1, sparse_output=False)"
      ]
     },
     "execution_count": 4,
     "metadata": {},
     "output_type": "execute_result"
    }
   ],
   "source": [
    "lb = LabelBinarizer()\n",
    "vector = [1, 2, 6, 4, 2]\n",
    "lb.fit(vector)"
   ]
  },
  {
   "cell_type": "code",
   "execution_count": 5,
   "metadata": {
    "scrolled": true
   },
   "outputs": [
    {
     "data": {
      "text/plain": [
       "array([1, 2, 4, 6])"
      ]
     },
     "execution_count": 5,
     "metadata": {},
     "output_type": "execute_result"
    }
   ],
   "source": [
    "lb.classes_"
   ]
  },
  {
   "cell_type": "code",
   "execution_count": 6,
   "metadata": {
    "scrolled": true
   },
   "outputs": [
    {
     "data": {
      "text/plain": [
       "array([[1, 0, 0, 0],\n",
       "       [0, 1, 0, 0],\n",
       "       [0, 0, 0, 1],\n",
       "       [0, 0, 1, 0],\n",
       "       [0, 1, 0, 0]])"
      ]
     },
     "execution_count": 6,
     "metadata": {},
     "output_type": "execute_result"
    }
   ],
   "source": [
    "# multi-class to ont-hot coding\n",
    "# fit label binarizer and transform multi-class labels to binary labels.\n",
    "lb.transform(vector)"
   ]
  },
  {
   "cell_type": "markdown",
   "metadata": {},
   "source": [
    "# 文件读取&字符串匹配"
   ]
  },
  {
   "cell_type": "markdown",
   "metadata": {},
   "source": [
    "## imutils.paths.list_images()"
   ]
  },
  {
   "cell_type": "code",
   "execution_count": 18,
   "metadata": {},
   "outputs": [],
   "source": [
    "from imutils import paths\n",
    "imagePath = list(paths.list_images(\"F:/pyimagesearch/datasets/animals/cats\"))"
   ]
  },
  {
   "cell_type": "code",
   "execution_count": 20,
   "metadata": {
    "scrolled": true
   },
   "outputs": [
    {
     "data": {
      "text/plain": [
       "['F:/pyimagesearch/datasets/animals/cats\\\\cats_00001.jpg',\n",
       " 'F:/pyimagesearch/datasets/animals/cats\\\\cats_00002.jpg',\n",
       " 'F:/pyimagesearch/datasets/animals/cats\\\\cats_00003.jpg',\n",
       " 'F:/pyimagesearch/datasets/animals/cats\\\\cats_00004.jpg',\n",
       " 'F:/pyimagesearch/datasets/animals/cats\\\\cats_00005.jpg',\n",
       " 'F:/pyimagesearch/datasets/animals/cats\\\\cats_00006.jpg',\n",
       " 'F:/pyimagesearch/datasets/animals/cats\\\\cats_00007.jpg',\n",
       " 'F:/pyimagesearch/datasets/animals/cats\\\\cats_00008.jpg',\n",
       " 'F:/pyimagesearch/datasets/animals/cats\\\\cats_00009.jpg',\n",
       " 'F:/pyimagesearch/datasets/animals/cats\\\\cats_00010.jpg']"
      ]
     },
     "execution_count": 20,
     "metadata": {},
     "output_type": "execute_result"
    }
   ],
   "source": [
    "imagePath[:10]"
   ]
  },
  {
   "cell_type": "code",
   "execution_count": 22,
   "metadata": {},
   "outputs": [
    {
     "data": {
      "text/plain": [
       "['F:/pyimagesearch/datasets/animals/cats\\\\cats_00010.jpg',\n",
       " 'F:/pyimagesearch/datasets/animals/cats\\\\cats_00009.jpg',\n",
       " 'F:/pyimagesearch/datasets/animals/cats\\\\cats_00008.jpg',\n",
       " 'F:/pyimagesearch/datasets/animals/cats\\\\cats_00007.jpg',\n",
       " 'F:/pyimagesearch/datasets/animals/cats\\\\cats_00006.jpg',\n",
       " 'F:/pyimagesearch/datasets/animals/cats\\\\cats_00005.jpg',\n",
       " 'F:/pyimagesearch/datasets/animals/cats\\\\cats_00004.jpg',\n",
       " 'F:/pyimagesearch/datasets/animals/cats\\\\cats_00003.jpg',\n",
       " 'F:/pyimagesearch/datasets/animals/cats\\\\cats_00002.jpg',\n",
       " 'F:/pyimagesearch/datasets/animals/cats\\\\cats_00001.jpg']"
      ]
     },
     "execution_count": 22,
     "metadata": {},
     "output_type": "execute_result"
    }
   ],
   "source": [
    "sorted(imagePath[:10])[::-1]"
   ]
  },
  {
   "cell_type": "code",
   "execution_count": 2,
   "metadata": {},
   "outputs": [],
   "source": [
    "import os"
   ]
  },
  {
   "cell_type": "code",
   "execution_count": 12,
   "metadata": {},
   "outputs": [],
   "source": [
    "image_types = (\".jpg\", \".jpeg\",\".png\", \".bmp\", \".tif\", \".tiff\")\n",
    "\n",
    "def list_files(basePath, validExts=None, contains=None):\n",
    "    # loop over the directory structure\n",
    "    for (rooDir, dirNames, filenames) in os.walk(basePath):\n",
    "        \"\"\"\n",
    "        rooDir : 即basePath\n",
    "        dirName: [所有的目录名]\n",
    "        filenames: [所有的文件名]\n",
    "        \n",
    "        \"\"\"\n",
    "        # 遍历所有文件\n",
    "        for filename in filenames:\n",
    "            # if the contains string is not None and the filename does not contain the supplied string, the ignore the file\n",
    "            # 如果我们指定了contains，即所需文件，但没有找到此文件，略过此文件\n",
    "            if contains is not None and filename.find(contains) == -1:\n",
    "                continue\n",
    "            # determine the file extension of the current file\n",
    "            # 如果此文件是想要的，取的文件的扩展名\n",
    "            ext = filename[filename.rfind(\".\"):].lower()\n",
    "            # check to see if the file is an image and should be processed\n",
    "            if validExts is None or ext.endswith(validExts):\n",
    "                # contruct the path to the image and yield it\n",
    "                imagePath = os.path.join(rootDir, filename)\n",
    "                yield imagePath\n",
    "def list_image(bathPath, contains=None):\n",
    "    # return the set of files that are valid\n",
    "    return list_files(basePath, validExts=image_types, contains=contains)"
   ]
  },
  {
   "cell_type": "markdown",
   "metadata": {},
   "source": [
    "# os"
   ]
  },
  {
   "cell_type": "markdown",
   "metadata": {},
   "source": [
    "## os.walk()"
   ]
  },
  {
   "cell_type": "code",
   "execution_count": 2,
   "metadata": {
    "scrolled": false
   },
   "outputs": [
    {
     "name": "stdout",
     "output_type": "stream",
     "text": [
      "Help on function walk in module os:\n",
      "\n",
      "walk(top, topdown=True, onerror=None, followlinks=False)\n",
      "    Directory tree generator.\n",
      "    \n",
      "    For each directory in the directory tree rooted at top (including top\n",
      "    itself, but excluding '.' and '..'), yields a 3-tuple\n",
      "    \n",
      "        dirpath, dirnames, filenames\n",
      "    \n",
      "    dirpath is a string, the path to the directory.  dirnames is a list of\n",
      "    the names of the subdirectories in dirpath (excluding '.' and '..').\n",
      "    filenames is a list of the names of the non-directory files in dirpath.\n",
      "    Note that the names in the lists are just names, with no path components.\n",
      "    To get a full path (which begins with top) to a file or directory in\n",
      "    dirpath, do os.path.join(dirpath, name).\n",
      "    \n",
      "    If optional arg 'topdown' is true or not specified, the triple for a\n",
      "    directory is generated before the triples for any of its subdirectories\n",
      "    (directories are generated top down).  If topdown is false, the triple\n",
      "    for a directory is generated after the triples for all of its\n",
      "    subdirectories (directories are generated bottom up).\n",
      "    \n",
      "    When topdown is true, the caller can modify the dirnames list in-place\n",
      "    (e.g., via del or slice assignment), and walk will only recurse into the\n",
      "    subdirectories whose names remain in dirnames; this can be used to prune the\n",
      "    search, or to impose a specific order of visiting.  Modifying dirnames when\n",
      "    topdown is false is ineffective, since the directories in dirnames have\n",
      "    already been generated by the time dirnames itself is generated. No matter\n",
      "    the value of topdown, the list of subdirectories is retrieved before the\n",
      "    tuples for the directory and its subdirectories are generated.\n",
      "    \n",
      "    By default errors from the os.scandir() call are ignored.  If\n",
      "    optional arg 'onerror' is specified, it should be a function; it\n",
      "    will be called with one argument, an OSError instance.  It can\n",
      "    report the error to continue with the walk, or raise the exception\n",
      "    to abort the walk.  Note that the filename is available as the\n",
      "    filename attribute of the exception object.\n",
      "    \n",
      "    By default, os.walk does not follow symbolic links to subdirectories on\n",
      "    systems that support them.  In order to get this functionality, set the\n",
      "    optional argument 'followlinks' to true.\n",
      "    \n",
      "    Caution:  if you pass a relative pathname for top, don't change the\n",
      "    current working directory between resumptions of walk.  walk never\n",
      "    changes the current directory, and assumes that the client doesn't\n",
      "    either.\n",
      "    \n",
      "    Example:\n",
      "    \n",
      "    import os\n",
      "    from os.path import join, getsize\n",
      "    for root, dirs, files in os.walk('python/Lib/email'):\n",
      "        print(root, \"consumes\", end=\"\")\n",
      "        print(sum([getsize(join(root, name)) for name in files]), end=\"\")\n",
      "        print(\"bytes in\", len(files), \"non-directory files\")\n",
      "        if 'CVS' in dirs:\n",
      "            dirs.remove('CVS')  # don't visit CVS directories\n",
      "\n"
     ]
    }
   ],
   "source": [
    "import os\n",
    "help(os.walk)"
   ]
  },
  {
   "cell_type": "markdown",
   "metadata": {},
   "source": [
    "## os.path.join()"
   ]
  },
  {
   "cell_type": "code",
   "execution_count": 13,
   "metadata": {},
   "outputs": [
    {
     "name": "stdout",
     "output_type": "stream",
     "text": [
      "Help on function join in module ntpath:\n",
      "\n",
      "join(path, *paths)\n",
      "    # Join two (or more) paths.\n",
      "\n"
     ]
    }
   ],
   "source": [
    "help(os.path.join)"
   ]
  },
  {
   "cell_type": "code",
   "execution_count": 14,
   "metadata": {},
   "outputs": [
    {
     "data": {
      "text/plain": [
       "'home\\\\python\\\\mywork'"
      ]
     },
     "execution_count": 14,
     "metadata": {},
     "output_type": "execute_result"
    }
   ],
   "source": [
    "os.path.join(\"home\",\"python\",\"mywork\")"
   ]
  },
  {
   "cell_type": "markdown",
   "metadata": {},
   "source": [
    "## os.path.sep"
   ]
  },
  {
   "cell_type": "code",
   "execution_count": 6,
   "metadata": {},
   "outputs": [
    {
     "data": {
      "text/plain": [
       "'\\\\'"
      ]
     },
     "execution_count": 6,
     "metadata": {},
     "output_type": "execute_result"
    }
   ],
   "source": [
    "import os\n",
    "os.path.sep # 返回操作系统文件路径的分隔符"
   ]
  },
  {
   "cell_type": "markdown",
   "metadata": {},
   "source": [
    "##  os.path.exists"
   ]
  },
  {
   "cell_type": "code",
   "execution_count": 4,
   "metadata": {},
   "outputs": [
    {
     "name": "stdout",
     "output_type": "stream",
     "text": [
      "Help on function exists in module genericpath:\n",
      "\n",
      "exists(path)\n",
      "    Test whether a path exists.  Returns False for broken symbolic links\n",
      "\n"
     ]
    }
   ],
   "source": [
    "help(os.path.exists) # 判断文件或目录是否存在"
   ]
  },
  {
   "cell_type": "code",
   "execution_count": 9,
   "metadata": {},
   "outputs": [
    {
     "name": "stdout",
     "output_type": "stream",
     "text": [
      "True\n"
     ]
    },
    {
     "data": {
      "text/plain": [
       "True"
      ]
     },
     "execution_count": 9,
     "metadata": {},
     "output_type": "execute_result"
    }
   ],
   "source": [
    "path1 = \"F:/Tensorflow_model/models/research/object_detection/\"\n",
    "path2 = \"F:/Tensorflow_model/models/research/object_detection/model_main.py\"\n",
    "print(os.path.exists(path1))\n",
    "os.path.exists(path2)"
   ]
  },
  {
   "cell_type": "code",
   "execution_count": null,
   "metadata": {},
   "outputs": [],
   "source": []
  },
  {
   "cell_type": "code",
   "execution_count": null,
   "metadata": {},
   "outputs": [],
   "source": []
  },
  {
   "cell_type": "markdown",
   "metadata": {},
   "source": [
    "# string\n"
   ]
  },
  {
   "cell_type": "markdown",
   "metadata": {},
   "source": [
    "## str.split()"
   ]
  },
  {
   "cell_type": "markdown",
   "metadata": {},
   "source": [
    "**split()方法以指定分隔符将字符串分开，返回一个包含已分割字符串的列表。**\n",
    "\n",
    "str.split([separator [, maxsplit]])\n",
    "\n",
    "* separator:\n",
    "\n",
    "        可选参数，分隔符，若不指定分隔符，任何空白（空格、换行、制表）即为分割符。\n",
    "    \n",
    "* maxsplit:\n",
    "\n",
    "        可选参数，默认为-1。若指定参数，则返回的列表最多有maxsplit + 1 项。"
   ]
  },
  {
   "cell_type": "code",
   "execution_count": 3,
   "metadata": {},
   "outputs": [
    {
     "name": "stdout",
     "output_type": "stream",
     "text": [
      "['abcd', '1234', 'jijo', 'f', 'dwe']\n"
     ]
    }
   ],
   "source": [
    "# 空格和空行都作为分割符\n",
    "s = 'abcd \\n1234\\njijo  f\\tdwe'\n",
    "print(s.split())"
   ]
  },
  {
   "cell_type": "code",
   "execution_count": 9,
   "metadata": {},
   "outputs": [
    {
     "data": {
      "text/plain": [
       "['abcd', '\\\\n1234\\\\nf\\\\be']"
      ]
     },
     "execution_count": 9,
     "metadata": {},
     "output_type": "execute_result"
    }
   ],
   "source": [
    "# 原始字符串不会被转义\n",
    "s2 = r'abcd \\n1234\\nf\\be'\n",
    "s2.split()"
   ]
  },
  {
   "cell_type": "code",
   "execution_count": 2,
   "metadata": {},
   "outputs": [
    {
     "name": "stdout",
     "output_type": "stream",
     "text": [
      "['Love', 'thy', 'neighbor']\n",
      "['Milk', 'Chicken', 'Bread']\n",
      "['Milk, Chicken, Bread']\n"
     ]
    }
   ],
   "source": [
    "text= 'Love thy neighbor'\n",
    "\n",
    "# splits at space\n",
    "print(text.split())\n",
    "\n",
    "grocery = 'Milk, Chicken, Bread'\n",
    "\n",
    "# splits at ','\n",
    "print(grocery.split(', '))\n",
    "\n",
    "# Splitting at ':'\n",
    "print(grocery.split(':'))"
   ]
  },
  {
   "cell_type": "code",
   "execution_count": 3,
   "metadata": {},
   "outputs": [
    {
     "name": "stdout",
     "output_type": "stream",
     "text": [
      "['Milk', 'Chicken', 'Bread, Butter']\n",
      "['Milk', 'Chicken, Bread, Butter']\n",
      "['Milk', 'Chicken', 'Bread', 'Butter']\n",
      "['Milk, Chicken, Bread, Butter']\n"
     ]
    }
   ],
   "source": [
    "grocery = 'Milk, Chicken, Bread, Butter'\n",
    "\n",
    "# maxsplit: 2\n",
    "print(grocery.split(', ', 2))\n",
    "\n",
    "# maxsplit: 1\n",
    "print(grocery.split(', ', 1))\n",
    "\n",
    "# maxsplit: 5\n",
    "print(grocery.split(', ', 5))\n",
    "\n",
    "# maxsplit: 0\n",
    "print(grocery.split(', ', 0))"
   ]
  },
  {
   "cell_type": "markdown",
   "metadata": {},
   "source": [
    "## str.find()"
   ]
  },
  {
   "cell_type": "code",
   "execution_count": 13,
   "metadata": {},
   "outputs": [
    {
     "name": "stdout",
     "output_type": "stream",
     "text": [
      "Help on method_descriptor:\n",
      "\n",
      "find(...)\n",
      "    S.find(sub[, start[, end]]) -> int\n",
      "    \n",
      "    Return the lowest index in S where substring sub is found,\n",
      "    such that sub is contained within S[start:end].  Optional\n",
      "    arguments start and end are interpreted as in slice notation.\n",
      "    \n",
      "    Return -1 on failure.\n",
      "\n"
     ]
    }
   ],
   "source": [
    "help(str.find)"
   ]
  },
  {
   "cell_type": "markdown",
   "metadata": {},
   "source": [
    "在指定范围内于目标串中找寻是否含有模式串，若有返回第一个模式串出现的下标，若无返回-1"
   ]
  },
  {
   "cell_type": "code",
   "execution_count": 1,
   "metadata": {},
   "outputs": [
    {
     "name": "stdout",
     "output_type": "stream",
     "text": [
      "0\n",
      "3\n",
      "-1\n",
      "-1\n"
     ]
    }
   ],
   "source": [
    "info = 'abca'\n",
    "\n",
    "print (info.find('a'))    # 从下标0开始，查找在字符串里第一个出现的子串，返回结果：0\n",
    "\n",
    "print (info.find('a',1))  # 从下标1开始，查找在字符串里第一个出现的子串：返回结果3\n",
    "\n",
    "print (info.find('3'))    # 查找不到返回-1_\n",
    "\n",
    "print(info.find('ab23'))\n"
   ]
  },
  {
   "cell_type": "markdown",
   "metadata": {},
   "source": [
    "## str.rfind()"
   ]
  },
  {
   "cell_type": "code",
   "execution_count": 30,
   "metadata": {},
   "outputs": [
    {
     "name": "stdout",
     "output_type": "stream",
     "text": [
      "Help on method_descriptor:\n",
      "\n",
      "rfind(...)\n",
      "    S.rfind(sub[, start[, end]]) -> int\n",
      "    \n",
      "    Return the highest index in S where substring sub is found,\n",
      "    such that sub is contained within S[start:end].  Optional\n",
      "    arguments start and end are interpreted as in slice notation.\n",
      "    \n",
      "    Return -1 on failure.\n",
      "\n"
     ]
    }
   ],
   "source": [
    "help(str.rfind) # 返回最后一个模式串出现的下标"
   ]
  },
  {
   "cell_type": "code",
   "execution_count": 31,
   "metadata": {},
   "outputs": [
    {
     "data": {
      "text/plain": [
       "4"
      ]
     },
     "execution_count": 31,
     "metadata": {},
     "output_type": "execute_result"
    }
   ],
   "source": [
    "info_2 = \"899099\"\n",
    "info_2.rfind('99') "
   ]
  },
  {
   "cell_type": "markdown",
   "metadata": {},
   "source": [
    "##  str.endswith()"
   ]
  },
  {
   "cell_type": "markdown",
   "metadata": {},
   "source": [
    "endswith() 方法用于判断字符串是否以指定后缀结尾，如果以指定后缀结尾返回True，否则返回False。可选参数\"start\"与\"end\"为检索字符串的开始与结束位置。"
   ]
  },
  {
   "cell_type": "code",
   "execution_count": 33,
   "metadata": {},
   "outputs": [
    {
     "name": "stdout",
     "output_type": "stream",
     "text": [
      "True\n",
      "True\n",
      "False\n",
      "False\n"
     ]
    }
   ],
   "source": [
    "Str='Runoob example....wow!!!'\n",
    "suffix='!!'\n",
    "print (Str.endswith(suffix))\n",
    "print (Str.endswith(suffix,20))\n",
    "suffix='run'\n",
    "print (Str.endswith(suffix))\n",
    "print (Str.endswith(suffix, 0, 19))"
   ]
  },
  {
   "cell_type": "markdown",
   "metadata": {},
   "source": [
    "## str.strip()"
   ]
  },
  {
   "cell_type": "markdown",
   "metadata": {},
   "source": [
    "string.strip([chars])\n",
    "\n",
    "移除字符串首尾中与chars一样的字符，默认删除首尾的空格。\n",
    "\n",
    "chars ：可选参数，指定需要删除的字符串"
   ]
  },
  {
   "cell_type": "code",
   "execution_count": 7,
   "metadata": {},
   "outputs": [
    {
     "name": "stdout",
     "output_type": "stream",
     "text": [
      "xoxo love xoxo\n",
      "lov\n",
      " xoxo love xoxo   \n",
      "droid is awesome\n"
     ]
    }
   ],
   "source": [
    "string = ' xoxo love xoxo   '\n",
    "\n",
    "# Leading whitepsace are removed\n",
    "print(string.strip())\n",
    "\n",
    "print(string.strip(' xoxoe'))\n",
    "\n",
    "# Argument doesn't contain space\n",
    "# No characters are removed.\n",
    "print(string.strip('sti'))\n",
    "\n",
    "string = 'android is awesome'\n",
    "print(string.strip('an'))"
   ]
  },
  {
   "cell_type": "code",
   "execution_count": null,
   "metadata": {},
   "outputs": [],
   "source": []
  },
  {
   "cell_type": "markdown",
   "metadata": {},
   "source": [
    "# 字典"
   ]
  },
  {
   "cell_type": "markdown",
   "metadata": {},
   "source": [
    "## dict.get(key[, value] )"
   ]
  },
  {
   "cell_type": "markdown",
   "metadata": {},
   "source": [
    "get()方法最多接受两个参数。\n",
    "\n",
    "\n",
    "key: 要查找的键，若此键存在，返回对应的值，不存在返回None。\n",
    "\n",
    "value：如果要查找的键不存在，返回value。"
   ]
  },
  {
   "cell_type": "code",
   "execution_count": 1,
   "metadata": {},
   "outputs": [
    {
     "name": "stdout",
     "output_type": "stream",
     "text": [
      "1\n"
     ]
    },
    {
     "ename": "KeyError",
     "evalue": "'C'",
     "output_type": "error",
     "traceback": [
      "\u001b[1;31m---------------------------------------------------------------------------\u001b[0m",
      "\u001b[1;31mKeyError\u001b[0m                                  Traceback (most recent call last)",
      "\u001b[1;32m<ipython-input-1-a4cc26bab80b>\u001b[0m in \u001b[0;36m<module>\u001b[1;34m()\u001b[0m\n\u001b[0;32m      1\u001b[0m \u001b[0mdic\u001b[0m \u001b[1;33m=\u001b[0m \u001b[1;33m{\u001b[0m\u001b[1;34m\"A\"\u001b[0m\u001b[1;33m:\u001b[0m \u001b[1;36m1\u001b[0m\u001b[1;33m,\u001b[0m \u001b[1;34m\"B\"\u001b[0m\u001b[1;33m:\u001b[0m \u001b[1;36m2\u001b[0m\u001b[1;33m}\u001b[0m\u001b[1;33m\u001b[0m\u001b[0m\n\u001b[0;32m      2\u001b[0m \u001b[0mprint\u001b[0m\u001b[1;33m(\u001b[0m\u001b[0mdic\u001b[0m\u001b[1;33m[\u001b[0m\u001b[1;34m\"A\"\u001b[0m\u001b[1;33m]\u001b[0m\u001b[1;33m)\u001b[0m\u001b[1;33m\u001b[0m\u001b[0m\n\u001b[1;32m----> 3\u001b[1;33m \u001b[0mprint\u001b[0m\u001b[1;33m(\u001b[0m\u001b[0mdic\u001b[0m\u001b[1;33m[\u001b[0m\u001b[1;34m\"C\"\u001b[0m\u001b[1;33m]\u001b[0m\u001b[1;33m)\u001b[0m\u001b[1;33m\u001b[0m\u001b[0m\n\u001b[0m",
      "\u001b[1;31mKeyError\u001b[0m: 'C'"
     ]
    }
   ],
   "source": [
    "dic = {\"A\": 1, \"B\": 2}\n",
    "print(dic[\"A\"])\n",
    "print(dic[\"C\"])"
   ]
  },
  {
   "cell_type": "code",
   "execution_count": 10,
   "metadata": {},
   "outputs": [
    {
     "name": "stdout",
     "output_type": "stream",
     "text": [
      "1\n",
      "None\n",
      "C is not in dic\n"
     ]
    }
   ],
   "source": [
    "print(dic.get(\"A\"))\n",
    "print(dic.get(\"C\"))\n",
    "print(dic.get(\"C\", \"C is not in dic\"))"
   ]
  },
  {
   "cell_type": "code",
   "execution_count": null,
   "metadata": {},
   "outputs": [],
   "source": []
  }
 ],
 "metadata": {
  "kernelspec": {
   "display_name": "Python 3",
   "language": "python",
   "name": "python3"
  },
  "language_info": {
   "codemirror_mode": {
    "name": "ipython",
    "version": 3
   },
   "file_extension": ".py",
   "mimetype": "text/x-python",
   "name": "python",
   "nbconvert_exporter": "python",
   "pygments_lexer": "ipython3",
   "version": "3.6.7"
  },
  "toc": {
   "base_numbering": 1,
   "nav_menu": {},
   "number_sections": true,
   "sideBar": true,
   "skip_h1_title": false,
   "title_cell": "Table of Contents",
   "title_sidebar": "Contents",
   "toc_cell": true,
   "toc_position": {
    "height": "calc(100% - 180px)",
    "left": "10px",
    "top": "150px",
    "width": "286.225px"
   },
   "toc_section_display": true,
   "toc_window_display": true
  }
 },
 "nbformat": 4,
 "nbformat_minor": 2
}
